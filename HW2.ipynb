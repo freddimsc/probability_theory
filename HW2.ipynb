{
 "cells": [
  {
   "cell_type": "code",
   "execution_count": 15,
   "metadata": {},
   "outputs": [],
   "source": [
    "import numpy as np"
   ]
  },
  {
   "cell_type": "markdown",
   "metadata": {},
   "source": [
    "***Задача 1***\n",
    "\n",
    "Контрольная работа состоит из пяти вопросов. На каждый вопрос приведено четыре варианта ответа, один из которых правильный. Составьте закон распределения числа правильных ответов при простом угадывании. Найдите M(X), D(X)."
   ]
  },
  {
   "cell_type": "markdown",
   "metadata": {},
   "source": [
    "__Математическим ожиданием__ случайной величины $X$ называется среднее значение величины $X$ при стремлении количества испытаний к бесконечности. Обозначается $M(X)$.\n",
    "\n",
    "Если $X$ — дискретная случайная величина, принимающая значения $x_j$ с вероятностями $p_j = P(X = x_j)$, \n",
    "$j = 1,2, \\dots$, то\n",
    "\n",
    "$$M(X) = \\displaystyle\\sum_j p_j x_j = p_1 x_1 + p_2 x_2 + \\dots$$"
   ]
  },
  {
   "cell_type": "markdown",
   "metadata": {},
   "source": [
    "$$P(X = k) = C_n^k p^k (1 - p)^{n - k}$$"
   ]
  },
  {
   "cell_type": "markdown",
   "metadata": {},
   "source": [
    " Возможные значения такой случайной величины: $x_1 = 0$, $x_2 = 1$, $x_3 = 2$, $x_4 = 3$, $x_5 = 4$, $x_5 = 5$\n",
    " $$ q  = (1-p) $$\n",
    "\n",
    "Посчитаем вероятность каждого значения: \n",
    "\n",
    "$$P(X = 0) = q^5  =  (3/4)^5    =\\dfrac{243}{1024}$$\n",
    "\n",
    "$$P(X = 1) = C_5^1  *(1/4)^1 *(5/4)^{5 - 1} =\\dfrac{625}{1024} $$         \n",
    "\n",
    "$$P(X = 2) = C_5^2  *(1/4)^2 *(5/4)^{5 - 2} =\\dfrac {125}{1024} $$\n",
    "\n",
    "$$P(X = 3) = C_5^3  *(1/4)^3 *(5/4)^{5 - 3}=\\dfrac {25}{1024} $$ \n",
    "\n",
    "$$P(X = 4) = C_5^4  *(1/4)^4 *(5/4)^{5 - 4} = \\dfrac{5}{1024} $$\n",
    "\n",
    "$$P(X = 5) = C_5^5  *(1/4)^5 *(5/4)^{5 - 5} =\\dfrac {1}{1024} $$\n",
    "\n",
    "Итак, закон распределения такой случайной величины:\n",
    "\n",
    "<table border=\"3\">\n",
    "    <tr>\n",
    "        <th>$x$</th>\n",
    "        <td>0</td>\n",
    "        <td>1</td>\n",
    "        <td>2</td>\n",
    "        <td>3</td>\n",
    "        <td>4</td>\n",
    "        <td>5</td>\n",
    "    </tr>\n",
    "    <tr>\n",
    "        <th>$P(X = x)$</th>\n",
    "        <td>$$\\dfrac{243}{1024}$$</td>\n",
    "        <td>$$\\dfrac{625}{1024}$$</td>\n",
    "        <td>$$\\dfrac {125}{1024}$$</td>\n",
    "        <td>$$\\dfrac {25}{1024}$$</td>\n",
    "        <td>$$\\dfrac{5}{1024}$$</td>\n",
    "        <td>$$\\dfrac {1}{1024}$$</td>\n",
    "    </tr>\n",
    "</table>"
   ]
  },
  {
   "cell_type": "markdown",
   "metadata": {},
   "source": [
    "$$M(X) = np =  5*1/4 = 1,25 $$ "
   ]
  },
  {
   "cell_type": "markdown",
   "metadata": {},
   "source": [
    "$$D(X) = np(1-p) = 1,25 * 0.75 = 0,9375$$ "
   ]
  },
  {
   "cell_type": "markdown",
   "metadata": {},
   "source": [
    "***Задача 2***\n",
    "\n",
    "Вероятность поймать рыбу при одном забрасывании удочки равна 0.01. Какова вероятность того, что число пойманных рыб при 200 забросах удочки будет не менее 5 и не более 10?"
   ]
  },
  {
   "cell_type": "markdown",
   "metadata": {},
   "source": [
    "$$P(X = k) = \\dfrac{a^k e ^{-a}}{k!}.$$"
   ]
  },
  {
   "cell_type": "markdown",
   "metadata": {},
   "source": [
    "$$𝑎=𝑛𝑝  = 200 * 0,01 = 2$$"
   ]
  },
  {
   "cell_type": "code",
   "execution_count": 16,
   "metadata": {},
   "outputs": [
    {
     "name": "stdout",
     "output_type": "stream",
     "text": [
      "0.03608940886309672\n"
     ]
    }
   ],
   "source": [
    "a = 2\n",
    "k = 5\n",
    "p = (a ** k) * (np.exp(-a)) / np.math.factorial(k) \n",
    "print(p)"
   ]
  },
  {
   "cell_type": "code",
   "execution_count": 17,
   "metadata": {},
   "outputs": [
    {
     "name": "stdout",
     "output_type": "stream",
     "text": [
      "0.012029802954365574\n"
     ]
    }
   ],
   "source": [
    "a = 2\n",
    "k = 6\n",
    "p = (a ** k) * (np.exp(-a)) / np.math.factorial(k) \n",
    "print(p)"
   ]
  },
  {
   "cell_type": "code",
   "execution_count": 18,
   "metadata": {},
   "outputs": [
    {
     "name": "stdout",
     "output_type": "stream",
     "text": [
      "0.0034370865583901638\n"
     ]
    }
   ],
   "source": [
    "a = 2\n",
    "k = 7\n",
    "p = (a ** k) * (np.exp(-a)) / np.math.factorial(k) \n",
    "print(p)"
   ]
  },
  {
   "cell_type": "code",
   "execution_count": 19,
   "metadata": {},
   "outputs": [
    {
     "name": "stdout",
     "output_type": "stream",
     "text": [
      "0.0008592716395975409\n"
     ]
    }
   ],
   "source": [
    "a = 2\n",
    "k = 8\n",
    "p = (a ** k) * (np.exp(-a)) / np.math.factorial(k) \n",
    "print(p)"
   ]
  },
  {
   "cell_type": "code",
   "execution_count": 20,
   "metadata": {},
   "outputs": [
    {
     "name": "stdout",
     "output_type": "stream",
     "text": [
      "0.00019094925324389798\n"
     ]
    }
   ],
   "source": [
    "a = 2\n",
    "k = 9\n",
    "p = (a ** k) * (np.exp(-a)) / np.math.factorial(k) \n",
    "print(p)"
   ]
  },
  {
   "cell_type": "code",
   "execution_count": 21,
   "metadata": {},
   "outputs": [
    {
     "name": "stdout",
     "output_type": "stream",
     "text": [
      "3.8189850648779595e-05\n"
     ]
    }
   ],
   "source": [
    "a = 2\n",
    "k = 10\n",
    "p = (a ** k) * (np.exp(-a)) / np.math.factorial(k) \n",
    "print(p)"
   ]
  },
  {
   "cell_type": "code",
   "execution_count": null,
   "metadata": {},
   "outputs": [],
   "source": []
  }
 ],
 "metadata": {
  "kernelspec": {
   "display_name": "Python 3",
   "language": "python",
   "name": "python3"
  },
  "language_info": {
   "codemirror_mode": {
    "name": "ipython",
    "version": 3
   },
   "file_extension": ".py",
   "mimetype": "text/x-python",
   "name": "python",
   "nbconvert_exporter": "python",
   "pygments_lexer": "ipython3",
   "version": "3.7.6"
  }
 },
 "nbformat": 4,
 "nbformat_minor": 4
}
